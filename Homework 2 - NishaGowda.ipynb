{
 "cells": [
  {
   "cell_type": "markdown",
   "id": "3011e22c-233e-4c75-88a8-a09487e9b048",
   "metadata": {},
   "source": [
    "# Homework 2"
   ]
  },
  {
   "cell_type": "code",
   "execution_count": 1,
   "id": "e9deed04-a482-48eb-9c87-879764f02468",
   "metadata": {},
   "outputs": [
    {
     "name": "stdout",
     "output_type": "stream",
     "text": [
      "Loaded dataset. Shape: (9704, 5)\n",
      "Columns: ['engine_displacement', 'horsepower', 'vehicle_weight', 'model_year', 'fuel_efficiency_mpg']\n"
     ]
    }
   ],
   "source": [
    "# Homework 2: simple setup\n",
    "import pandas as pd\n",
    "import numpy as np\n",
    "from sklearn.linear_model import LinearRegression, Ridge\n",
    "from sklearn.metrics import mean_squared_error\n",
    "\n",
    "# Load the CSV (put the file next to the notebook)\n",
    "df = pd.read_csv(\"car_fuel_efficiency.csv\")\n",
    "\n",
    "# Keep only required columns\n",
    "cols = ['engine_displacement','horsepower','vehicle_weight','model_year','fuel_efficiency_mpg']\n",
    "df = df[cols].copy()\n",
    "\n",
    "print(\"Loaded dataset. Shape:\", df.shape)\n",
    "print(\"Columns:\", df.columns.tolist())"
   ]
  },
  {
   "cell_type": "markdown",
   "id": "7808faa7-8b99-4f03-ae4b-3e253ee39780",
   "metadata": {},
   "source": [
    "## Q1 — Check which column has missing values?"
   ]
  },
  {
   "cell_type": "code",
   "execution_count": 2,
   "id": "67794082-6cb9-4141-964e-bfd378ab7a28",
   "metadata": {},
   "outputs": [
    {
     "name": "stdout",
     "output_type": "stream",
     "text": [
      "Missing values per column:\n",
      " engine_displacement      0\n",
      "horsepower             708\n",
      "vehicle_weight           0\n",
      "model_year               0\n",
      "fuel_efficiency_mpg      0\n",
      "dtype: int64\n",
      "\n",
      "Columns that have missing values: ['horsepower']\n"
     ]
    }
   ],
   "source": [
    "na_counts = df.isna().sum()\n",
    "print(\"Missing values per column:\\n\", na_counts)\n",
    "print(\"\\nColumns that have missing values:\", na_counts[na_counts>0].index.tolist())"
   ]
  },
  {
   "cell_type": "markdown",
   "id": "b7caf6c4-0f7b-4528-8148-f0855f5704ad",
   "metadata": {},
   "source": [
    "## Q2 — Median of horsepower"
   ]
  },
  {
   "cell_type": "code",
   "execution_count": 3,
   "id": "bb0adc13-b507-471b-a2f0-3d862f877315",
   "metadata": {},
   "outputs": [
    {
     "name": "stdout",
     "output_type": "stream",
     "text": [
      "Median horsepower: 149.0\n"
     ]
    }
   ],
   "source": [
    "median_hp = df['horsepower'].median()\n",
    "print(\"Median horsepower:\", median_hp)"
   ]
  },
  {
   "cell_type": "markdown",
   "id": "5bb0e18b-2901-41ed-970b-4c51dbba16f7",
   "metadata": {},
   "source": [
    "## Split & prepare the dataset"
   ]
  },
  {
   "cell_type": "code",
   "execution_count": 6,
   "id": "d8bd950d-fdd2-4c22-8a9a-863fd1a1bf06",
   "metadata": {},
   "outputs": [],
   "source": [
    "def split_data(df, seed=42):\n",
    "    df_shuffled = df.sample(frac=1, random_state=seed).reset_index(drop=True)\n",
    "    n = len(df_shuffled)\n",
    "    n_train = int(0.6 * n)\n",
    "    n_val = int(0.2 * n)\n",
    "    train = df_shuffled.iloc[:n_train].reset_index(drop=True)\n",
    "    val   = df_shuffled.iloc[n_train:n_train+n_val].reset_index(drop=True)\n",
    "    test  = df_shuffled.iloc[n_train+n_val:].reset_index(drop=True)\n",
    "    return train, val, test\n",
    "\n",
    "# Prepare X and y, handling horsepower NA with chosen strategy\n",
    "def prepare_X_y(df_in, fill_strategy='zero', mean_value=None):\n",
    "    df2 = df_in.copy()\n",
    "    if fill_strategy == 'zero':\n",
    "        df2['horsepower'] = df2['horsepower'].fillna(0)\n",
    "    elif fill_strategy == 'mean':\n",
    "        df2['horsepower'] = df2['horsepower'].fillna(mean_value)\n",
    "    X = df2[['engine_displacement','horsepower','vehicle_weight','model_year']].values\n",
    "    y = df2['fuel_efficiency_mpg'].values\n",
    "    return X, y\n",
    "\n",
    "def rmse(y_true, y_pred):\n",
    "    return np.sqrt(((y_true - y_pred) ** 2).mean())"
   ]
  },
  {
   "cell_type": "markdown",
   "id": "0d2d4178-70ea-4f22-bdb2-27a9efc5fa32",
   "metadata": {},
   "source": [
    "## Q3 — Filling missing horsepower with 0 vs with training mean"
   ]
  },
  {
   "cell_type": "code",
   "execution_count": 7,
   "id": "9aa6a8ec-f7c7-4d25-bb94-d6de82deb155",
   "metadata": {},
   "outputs": [
    {
     "name": "stdout",
     "output_type": "stream",
     "text": [
      "RMSE fill with 0: 0.52\n",
      "RMSE fill with mean: 0.46\n"
     ]
    }
   ],
   "source": [
    "# Split using seed=42\n",
    "train, val, test = split_data(df, seed=42)\n",
    "\n",
    "# Compute training mean for horsepower (must use training only)\n",
    "train_hp_mean = train['horsepower'].mean()\n",
    "\n",
    "# Option A: fill with 0\n",
    "X_train_0, y_train = prepare_X_y(train, fill_strategy='zero')\n",
    "X_val_0, y_val = prepare_X_y(val, fill_strategy='zero')\n",
    "model0 = LinearRegression()\n",
    "model0.fit(X_train_0, y_train)\n",
    "pred_val_0 = model0.predict(X_val_0)\n",
    "rmse_0 = round(rmse(y_val, pred_val_0), 2)\n",
    "\n",
    "# Option B: fill with mean (training mean)\n",
    "X_train_m, y_train = prepare_X_y(train, fill_strategy='mean', mean_value=train_hp_mean)\n",
    "X_val_m, y_val = prepare_X_y(val, fill_strategy='mean', mean_value=train_hp_mean)\n",
    "model1 = LinearRegression()\n",
    "model1.fit(X_train_m, y_train)\n",
    "pred_val_m = model1.predict(X_val_m)\n",
    "rmse_m = round(rmse(y_val, pred_val_m), 2)\n",
    "\n",
    "print(\"RMSE fill with 0:\", rmse_0)\n",
    "print(\"RMSE fill with mean:\", rmse_m)"
   ]
  },
  {
   "cell_type": "markdown",
   "id": "598f520d-e52b-4c69-bce9-e3c8e5edd6f0",
   "metadata": {},
   "source": [
    "## Q5 — How seed influences score (seeds 0..9). Fill 0, no regularization. Compute std of RMSEs."
   ]
  },
  {
   "cell_type": "code",
   "execution_count": 8,
   "id": "d938405f-e532-4452-a6a2-747c7eacd2ea",
   "metadata": {},
   "outputs": [
    {
     "name": "stdout",
     "output_type": "stream",
     "text": [
      "RMSEs for seeds 0..9: [np.float64(0.521), np.float64(0.522), np.float64(0.523), np.float64(0.516), np.float64(0.511), np.float64(0.529), np.float64(0.532), np.float64(0.51), np.float64(0.515), np.float64(0.513)]\n",
      "Standard deviation (np.std): 0.007\n"
     ]
    }
   ],
   "source": [
    "seeds = list(range(10))\n",
    "rmse_seeds = []\n",
    "for s in seeds:\n",
    "    tr, va, te = split_data(df, seed=s)\n",
    "    X_tr, y_tr = prepare_X_y(tr, fill_strategy='zero')\n",
    "    X_va, y_va = prepare_X_y(va, fill_strategy='zero')\n",
    "    model = LinearRegression()\n",
    "    model.fit(X_tr, y_tr)\n",
    "    pred_va = model.predict(X_va)\n",
    "    rmse_s = rmse(y_va, pred_va)\n",
    "    rmse_seeds.append(rmse_s)\n",
    "\n",
    "std_rmse = round(np.std(rmse_seeds), 3)\n",
    "print(\"RMSEs for seeds 0..9:\", [round(x,3) for x in rmse_seeds])\n",
    "print(\"Standard deviation (np.std):\", std_rmse)"
   ]
  },
  {
   "cell_type": "markdown",
   "id": "1e298e4d-e570-43ab-900a-644b4229efb7",
   "metadata": {},
   "source": [
    "## Q6 — seed 9, combine train+val, fill 0, r=0.001 → calculate RMSE on test dataset"
   ]
  },
  {
   "cell_type": "code",
   "execution_count": 9,
   "id": "b2544931-004f-4f14-98b6-ff5b53ab3057",
   "metadata": {},
   "outputs": [
    {
     "name": "stdout",
     "output_type": "stream",
     "text": [
      "RMSE on test (seed=9, r=0.001): 0.515\n"
     ]
    }
   ],
   "source": [
    "# Split with seed=9\n",
    "tr, va, te = split_data(df, seed=9)\n",
    "train_comb = pd.concat([tr, va]).reset_index(drop=True)\n",
    "\n",
    "# Fill 0 and train with r=0.001\n",
    "X_train_c, y_train_c = prepare_X_y(train_comb, fill_strategy='zero')\n",
    "X_test_c, y_test_c   = prepare_X_y(te, fill_strategy='zero')\n",
    "\n",
    "model_c = Ridge(alpha=0.001)\n",
    "model_c.fit(X_train_c, y_train_c)\n",
    "pred_test = model_c.predict(X_test_c)\n",
    "rmse_test = round(rmse(y_test_c, pred_test), 3)\n",
    "\n",
    "print(\"RMSE on test (seed=9, r=0.001):\", rmse_test)"
   ]
  },
  {
   "cell_type": "code",
   "execution_count": null,
   "id": "32a903f2-4994-4523-ac4e-1dcd3556f6d6",
   "metadata": {},
   "outputs": [],
   "source": []
  }
 ],
 "metadata": {
  "kernelspec": {
   "display_name": "Python 3 (ipykernel)",
   "language": "python",
   "name": "python3"
  },
  "language_info": {
   "codemirror_mode": {
    "name": "ipython",
    "version": 3
   },
   "file_extension": ".py",
   "mimetype": "text/x-python",
   "name": "python",
   "nbconvert_exporter": "python",
   "pygments_lexer": "ipython3",
   "version": "3.13.3"
  }
 },
 "nbformat": 4,
 "nbformat_minor": 5
}
