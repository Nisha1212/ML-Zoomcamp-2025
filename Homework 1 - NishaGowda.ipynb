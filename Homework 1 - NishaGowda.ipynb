{
 "cells": [
  {
   "cell_type": "markdown",
   "id": "3c37dfab-b491-45a4-b3eb-9426b2834cc3",
   "metadata": {},
   "source": [
    "# Homework 1: Car Fuel Efficiency"
   ]
  },
  {
   "cell_type": "code",
   "execution_count": 2,
   "id": "3592e5bf-2fe7-4829-819c-0d8250467024",
   "metadata": {},
   "outputs": [],
   "source": [
    "#load libraries\n",
    "import pandas as pd\n",
    "import numpy as np"
   ]
  },
  {
   "cell_type": "code",
   "execution_count": 3,
   "id": "225c6ffe-656e-4e4f-8c47-a1a1b3afbb10",
   "metadata": {},
   "outputs": [
    {
     "name": "stdout",
     "output_type": "stream",
     "text": [
      "Loaded dataset. Shape: (9704, 11)\n",
      "Columns: ['engine_displacement', 'num_cylinders', 'horsepower', 'vehicle_weight', 'acceleration', 'model_year', 'origin', 'fuel_type', 'drivetrain', 'num_doors', 'fuel_efficiency_mpg']\n"
     ]
    }
   ],
   "source": [
    "#load the dataset\n",
    "df = pd.read_csv(\"car_fuel_efficiency.csv\")\n",
    "print(\"Loaded dataset. Shape:\", df.shape)\n",
    "print(\"Columns:\", df.columns.tolist())"
   ]
  },
  {
   "cell_type": "markdown",
   "id": "8a5b26d4-ab2f-4041-9f3e-c13f7e10d74b",
   "metadata": {},
   "source": [
    "## Q1. Pandas version\n",
    "\n",
    "### Question: What version of Pandas did you install?"
   ]
  },
  {
   "cell_type": "code",
   "execution_count": 4,
   "id": "40d06bcd-9987-4fc6-8a45-909c9446cddc",
   "metadata": {},
   "outputs": [
    {
     "name": "stdout",
     "output_type": "stream",
     "text": [
      "Pandas version: 2.2.3\n"
     ]
    }
   ],
   "source": [
    "print('Pandas version:', pd.__version__)"
   ]
  },
  {
   "cell_type": "markdown",
   "id": "1598087c-f4e5-4296-81d0-c7c173a15265",
   "metadata": {},
   "source": [
    "## Q2. Records count\n",
    "\n",
    "### Question: How many records are in the dataset?"
   ]
  },
  {
   "cell_type": "code",
   "execution_count": 5,
   "id": "89943438-e137-4f9e-934d-824bca943502",
   "metadata": {},
   "outputs": [
    {
     "name": "stdout",
     "output_type": "stream",
     "text": [
      "Number of records: 9704\n"
     ]
    }
   ],
   "source": [
    "# Count rows\n",
    "n_rows = len(df)\n",
    "print('Number of records:', n_rows)"
   ]
  },
  {
   "cell_type": "markdown",
   "id": "d3388e8e-514b-4e0e-9e58-7b76df5b6c0c",
   "metadata": {},
   "source": [
    "## Q3. Fuel types\n",
    "\n",
    "### Question: How many fuel types are presented in the dataset?"
   ]
  },
  {
   "cell_type": "code",
   "execution_count": 8,
   "id": "a333a868-3145-4510-a417-54cd969acc5d",
   "metadata": {},
   "outputs": [
    {
     "name": "stdout",
     "output_type": "stream",
     "text": [
      "Unique fuel types and counts:\n",
      "fuel_type\n",
      "Gasoline    4898\n",
      "Diesel      4806\n",
      "Name: count, dtype: int64\n",
      "Number of unique fuel types (excluding NaN): 2\n"
     ]
    }
   ],
   "source": [
    "fuel_col = 'fuel_type'\n",
    "print('Unique fuel types and counts:')\n",
    "print(df[fuel_col].value_counts(dropna=False))\n",
    "print('Number of unique fuel types (excluding NaN):', df[fuel_col].nunique(dropna=True))"
   ]
  },
  {
   "cell_type": "markdown",
   "id": "f064e287-ca73-494a-8c94-2036c77edc3a",
   "metadata": {},
   "source": [
    "## Q4. Missing values\n",
    "\n",
    "### Question: How many columns in the dataset have missing values?"
   ]
  },
  {
   "cell_type": "code",
   "execution_count": 9,
   "id": "c1571dd4-65e4-47c1-b1c5-b90086b2d7c7",
   "metadata": {},
   "outputs": [
    {
     "name": "stdout",
     "output_type": "stream",
     "text": [
      "Columns with missing values: 4\n",
      "num_cylinders    482\n",
      "horsepower       708\n",
      "acceleration     930\n",
      "num_doors        502\n",
      "dtype: int64\n"
     ]
    }
   ],
   "source": [
    "na_counts = df.isna().sum()\n",
    "cols_with_na = na_counts[na_counts > 0]\n",
    "print('Columns with missing values:', len(cols_with_na))\n",
    "print(cols_with_na)"
   ]
  },
  {
   "cell_type": "markdown",
   "id": "73682806-e341-4640-9135-95c7423c9036",
   "metadata": {},
   "source": [
    "## Q5. Max fuel efficiency for Asia\n",
    "\n",
    "### Question: What's the maximum fuel efficiency of cars from Asia?"
   ]
  },
  {
   "cell_type": "code",
   "execution_count": 11,
   "id": "35af3e8a-1bb7-4448-9872-fb329f9700c6",
   "metadata": {},
   "outputs": [
    {
     "name": "stdout",
     "output_type": "stream",
     "text": [
      "Maximum fuel efficiency (Asia): 23.76\n"
     ]
    }
   ],
   "source": [
    "origin_col = 'origin' # expected column name\n",
    "fe_col = 'fuel_efficiency_mpg' # expected fuel efficiency column\n",
    "\n",
    "\n",
    "# Filter rows where origin is Asia (case-insensitive)\n",
    "asia = df[origin_col].astype(str).str.contains('Asia', case=False, na=False)\n",
    "max_fe_asia = df.loc[asia, fe_col].max()\n",
    "print('Maximum fuel efficiency (Asia):', round(max_fe_asia, 2))"
   ]
  },
  {
   "cell_type": "markdown",
   "id": "046db15d-4e71-4d6f-b6f5-d795608e9970",
   "metadata": {},
   "source": [
    "## Q6. Median horsepower and effect of filling missing values with the mode\n",
    "\n",
    "### Question: Compute the median of the horsepower column. Then compute the mode (most frequent value). Fill missing horsepower values with the mode using fillna, recompute the median, and say whether the median changed."
   ]
  },
  {
   "cell_type": "code",
   "execution_count": 14,
   "id": "5b51eef6-afa9-4550-a016-1c2271d7201e",
   "metadata": {},
   "outputs": [
    {
     "name": "stdout",
     "output_type": "stream",
     "text": [
      "Median BEFORE filling: 149.0\n",
      "Mode used to fill: 152.0\n",
      "Median AFTER filling: 152.0\n",
      "Has it changed? Yes, it increased\n"
     ]
    }
   ],
   "source": [
    "hp_col = 'horsepower'\n",
    "\n",
    "\n",
    "median_before = df[hp_col].median()\n",
    "mode_hp = df[hp_col].mode(dropna=True).iloc[0]\n",
    "\n",
    "\n",
    "# Create a copy and fill missing values with the mode\n",
    "df_hp_filled = df.copy()\n",
    "df_hp_filled[hp_col] = df_hp_filled[hp_col].fillna(mode_hp)\n",
    "median_after = df_hp_filled[hp_col].median()\n",
    "\n",
    "\n",
    "print('Median BEFORE filling:', median_before)\n",
    "print('Mode used to fill:', mode_hp)\n",
    "print('Median AFTER filling:', median_after)\n",
    "\n",
    "\n",
    "if median_after > median_before:\n",
    "    print('Has it changed? Yes, it increased')\n",
    "elif median_after < median_before:\n",
    "    print('Has it changed? Yes, it decreased')\n",
    "else:\n",
    "    print('Has it changed? No')"
   ]
  },
  {
   "cell_type": "markdown",
   "id": "e7e7985e-377e-4881-8425-eddeebf95f73",
   "metadata": {},
   "source": [
    "## Q7. Linear algebra (normal equation) — simple steps\n",
    "\n",
    "### Question: Follow these steps exactly:\n",
    "\n",
    "#### Select all cars from Asia.\n",
    "#### Select only columns vehicle_weight and model_year.\n",
    "#### Take the first 7 rows.\n",
    "#### Convert to a NumPy array X.\n",
    "#### Compute XTX = X.T @ X.\n",
    "#### Invert XTX.\n",
    "#### Let y = [1100,1300,800,900,1000,1100,1200].\n",
    "#### Compute w = (XTX)^{-1} X.T y.\n",
    "#### What is the sum of w?"
   ]
  },
  {
   "cell_type": "code",
   "execution_count": 16,
   "id": "4b4f1967-4d37-4a89-bcd1-9289f9a1ac79",
   "metadata": {},
   "outputs": [
    {
     "name": "stdout",
     "output_type": "stream",
     "text": [
      "First 7 rows (vehicle_weight, model_year):\n",
      "    vehicle_weight  model_year\n",
      "8      2714.219310        2016\n",
      "12     2783.868974        2010\n",
      "14     3582.687368        2007\n",
      "20     2231.808142        2011\n",
      "21     2659.431451        2016\n",
      "34     2844.227534        2014\n",
      "38     3761.994038        2019\n",
      "w: [0.01386421 0.5049067 ]\n",
      "Sum of elements of w: 0.5188\n"
     ]
    }
   ],
   "source": [
    "weight_col = 'vehicle_weight'\n",
    "year_col = 'model_year'\n",
    "\n",
    "\n",
    "# Filter Asia and select columns\n",
    "asia_rows = df[df['origin'].astype(str).str.contains('Asia', case=False, na=False)]\n",
    "X_df = asia_rows[[weight_col, year_col]].head(7)\n",
    "print('First 7 rows (vehicle_weight, model_year):')\n",
    "print(X_df)\n",
    "\n",
    "\n",
    "# Convert to NumPy\n",
    "X = X_df.to_numpy(dtype=float)\n",
    "\n",
    "\n",
    "# Normal equation steps\n",
    "XTX = X.T @ X\n",
    "XTX_inv = np.linalg.inv(XTX)\n",
    "\n",
    "\n",
    "y = np.array([1100, 1300, 800, 900, 1000, 1100, 1200], dtype=float)\n",
    "\n",
    "\n",
    "w = XTX_inv @ X.T @ y\n",
    "print('w:', w)\n",
    "print('Sum of elements of w:', round(w.sum(), 4))"
   ]
  },
  {
   "cell_type": "code",
   "execution_count": null,
   "id": "cabcbe1d-afba-40c5-b02c-666e1a1abe37",
   "metadata": {},
   "outputs": [],
   "source": []
  }
 ],
 "metadata": {
  "kernelspec": {
   "display_name": "Python 3 (ipykernel)",
   "language": "python",
   "name": "python3"
  },
  "language_info": {
   "codemirror_mode": {
    "name": "ipython",
    "version": 3
   },
   "file_extension": ".py",
   "mimetype": "text/x-python",
   "name": "python",
   "nbconvert_exporter": "python",
   "pygments_lexer": "ipython3",
   "version": "3.13.3"
  }
 },
 "nbformat": 4,
 "nbformat_minor": 5
}
